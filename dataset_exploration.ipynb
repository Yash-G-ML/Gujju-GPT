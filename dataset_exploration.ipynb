{
 "cells": [
  {
   "cell_type": "code",
   "execution_count": 1,
   "id": "50a34777-d1b9-450c-af88-a3d781bbb97d",
   "metadata": {},
   "outputs": [],
   "source": [
    "import tiktoken"
   ]
  },
  {
   "cell_type": "code",
   "execution_count": 42,
   "id": "ebe37546",
   "metadata": {},
   "outputs": [],
   "source": [
    "import os\n",
    "import numpy as np\n",
    "from tqdm import tqdm"
   ]
  },
  {
   "cell_type": "code",
   "execution_count": 5,
   "id": "b94d0225-5583-48b0-9512-193fce9e6578",
   "metadata": {},
   "outputs": [],
   "source": [
    "enc = tiktoken.get_encoding(\"cl100k_base\")"
   ]
  },
  {
   "cell_type": "code",
   "execution_count": 6,
   "id": "b52d95b8-347b-4f7c-97cc-4268a40be0a3",
   "metadata": {},
   "outputs": [
    {
     "data": {
      "text/plain": [
       "{'<|endoftext|>': 100257,\n",
       " '<|fim_prefix|>': 100258,\n",
       " '<|fim_middle|>': 100259,\n",
       " '<|fim_suffix|>': 100260,\n",
       " '<|endofprompt|>': 100276}"
      ]
     },
     "execution_count": 6,
     "metadata": {},
     "output_type": "execute_result"
    }
   ],
   "source": [
    "enc._special_tokens"
   ]
  },
  {
   "cell_type": "code",
   "execution_count": 7,
   "id": "03357280",
   "metadata": {},
   "outputs": [
    {
     "data": {
      "text/plain": [
       "100276"
      ]
     },
     "execution_count": 7,
     "metadata": {},
     "output_type": "execute_result"
    }
   ],
   "source": [
    "enc.max_token_value"
   ]
  },
  {
   "cell_type": "code",
   "execution_count": 13,
   "id": "abbe5797",
   "metadata": {},
   "outputs": [
    {
     "data": {
      "text/plain": [
       "100277"
      ]
     },
     "execution_count": 13,
     "metadata": {},
     "output_type": "execute_result"
    }
   ],
   "source": [
    "enc.n_vocab"
   ]
  },
  {
   "cell_type": "code",
   "execution_count": 8,
   "id": "5c4af66a-ecf8-4190-acb3-2bd440895040",
   "metadata": {},
   "outputs": [
    {
     "data": {
      "text/plain": [
       "[41814,\n",
       " 245,\n",
       " 73319,\n",
       " 223,\n",
       " 41814,\n",
       " 250,\n",
       " 41814,\n",
       " 108,\n",
       " 41814,\n",
       " 122,\n",
       " 41814,\n",
       " 97,\n",
       " 95591,\n",
       " 227,\n",
       " 41814,\n",
       " 101,\n",
       " 73319,\n",
       " 229,\n",
       " 95591,\n",
       " 255,\n",
       " 41814,\n",
       " 122,\n",
       " 41814,\n",
       " 108,\n",
       " 41814,\n",
       " 97,\n",
       " 41814,\n",
       " 106,\n",
       " 41814,\n",
       " 122,\n",
       " 41814,\n",
       " 224,\n",
       " 95591,\n",
       " 116,\n",
       " 73319,\n",
       " 235,\n",
       " 41814,\n",
       " 98,\n",
       " 41814,\n",
       " 122,\n",
       " 41814,\n",
       " 101]"
      ]
     },
     "execution_count": 8,
     "metadata": {},
     "output_type": "execute_result"
    }
   ],
   "source": [
    "enc.encode(\"ગુજરાત અને ભારતમાં સ્થાન\")"
   ]
  },
  {
   "cell_type": "code",
   "execution_count": 9,
   "id": "85e1c312-9f92-4bac-85bf-0b29cc5e8b13",
   "metadata": {},
   "outputs": [
    {
     "data": {
      "text/plain": [
       "'ગુજરાત અને ભારતમાં સ્થાન'"
      ]
     },
     "execution_count": 9,
     "metadata": {},
     "output_type": "execute_result"
    }
   ],
   "source": [
    "enc.decode(enc.encode(\"ગુજરાત અને ભારતમાં સ્થાન\"))"
   ]
  },
  {
   "cell_type": "code",
   "execution_count": 14,
   "id": "3414b957-8878-4d24-aae4-2a0f3c9a14cb",
   "metadata": {},
   "outputs": [],
   "source": [
    "directory_path = \"dataset_gujju\""
   ]
  },
  {
   "cell_type": "code",
   "execution_count": 16,
   "id": "37a4ced6",
   "metadata": {},
   "outputs": [],
   "source": [
    "train_folder_path = os.path.join(directory_path, \"train\")\n",
    "valid_folder_path = os.path.join(directory_path, \"valid\")\n",
    "\n",
    "train_file_paths = [os.path.join(train_folder_path, file) for file in os.listdir(train_folder_path) if file.endswith(\".txt\")]\n",
    "valid_file_paths = [os.path.join(valid_folder_path, file) for file in os.listdir(valid_folder_path) if file.endswith(\".txt\")]"
   ]
  },
  {
   "cell_type": "code",
   "execution_count": 17,
   "id": "79084dfb",
   "metadata": {},
   "outputs": [
    {
     "data": {
      "text/plain": [
       "22339"
      ]
     },
     "execution_count": 17,
     "metadata": {},
     "output_type": "execute_result"
    }
   ],
   "source": [
    "len(train_file_paths)"
   ]
  },
  {
   "cell_type": "code",
   "execution_count": 18,
   "id": "a5c52e5b",
   "metadata": {},
   "outputs": [
    {
     "data": {
      "text/plain": [
       "9574"
      ]
     },
     "execution_count": 18,
     "metadata": {},
     "output_type": "execute_result"
    }
   ],
   "source": [
    "len(valid_file_paths)"
   ]
  },
  {
   "cell_type": "code",
   "execution_count": 23,
   "id": "6e08973e",
   "metadata": {},
   "outputs": [],
   "source": [
    "def load_and_tokenize(file_path, tokenizer=None):\n",
    "    with open(file_path, 'r', encoding='utf-8') as file:\n",
    "        text = file.read()\n",
    "        tokens = tokenizer.encode(text)\n",
    "    return tokens"
   ]
  },
  {
   "cell_type": "code",
   "execution_count": 25,
   "id": "b02831b6",
   "metadata": {},
   "outputs": [
    {
     "data": {
      "text/plain": [
       "797"
      ]
     },
     "execution_count": 25,
     "metadata": {},
     "output_type": "execute_result"
    }
   ],
   "source": [
    "l = load_and_tokenize(train_file_paths[0],enc)\n",
    "len(l)"
   ]
  },
  {
   "cell_type": "code",
   "execution_count": 44,
   "metadata": {},
   "outputs": [
    {
     "data": {
      "text/plain": [
       "'ગુજરાત અને ભારતમાં સ્થાન\\nદૂધની ડેરી\\nકપાસ, દિવેલી, શાકભાજી\\nનિઝામપુર ભારત દેશના પશ્ચિમ ભાગમાં આવેલા ગુજરાત રાજ્યના ઉત્તર ભાગમાં આવેલા  મહેસાણા જિલ્લામાં આવેલા કુલ ૧૦ તાલુકાઓ પૈકીના એક એવા સતલાસણા તાલુકામાં આવેલું એક ગામ છે. નિઝામપુર ગામના લોકોનો મુખ્ય વ્યવસાય ખેતી, ખેતમજૂરી તેમ જ પશુપાલન છે. આ ગામમાં મુખ્યત્વે ઘઉં, જીરુ, વરિયાળી, બાજરી, કપાસ, દિવેલી તેમ જ શાકભાજીના પાકની ખેતી કરવામાં આવે છે. આ ગામમાં પ્રાથમિક શાળા, પંચાયતઘર, આંગણવાડી તેમ જ દૂધની ડેરી જેવી સવલતો પ્રાપ્ય થયેલી છે.\\n'"
      ]
     },
     "execution_count": 44,
     "metadata": {},
     "output_type": "execute_result"
    }
   ],
   "source": [
    "enc.decode(np.load(\"tokenized_data/train/0.npy\"))"
   ]
  },
  {
   "cell_type": "code",
   "execution_count": 46,
   "id": "62ff7233",
   "metadata": {},
   "outputs": [
    {
     "data": {
      "text/plain": [
       "'ચામરાજનગર ભારત દેશના દક્ષિણ ભાગમાં આવેલા કર્ણાટક રાજ્યના ચામરાજનગર જિલ્લામાં આવેલું એક નગર છે. ચામરાજનગરમાં ચામરાજનગર જિલ્લાનું મુખ્યાલય છે. \\n'"
      ]
     },
     "execution_count": 46,
     "metadata": {},
     "output_type": "execute_result"
    }
   ],
   "source": [
    "enc.decode(np.load(\"tokenized_data/valid/3.npy\"))"
   ]
  },
  {
   "cell_type": "code",
   "execution_count": 47,
   "id": "210a2801",
   "metadata": {},
   "outputs": [
    {
     "data": {
      "text/plain": [
       "243"
      ]
     },
     "execution_count": 47,
     "metadata": {},
     "output_type": "execute_result"
    }
   ],
   "source": [
    "len(np.load(\"tokenized_data/valid/3.npy\"))"
   ]
  },
  {
   "cell_type": "code",
   "execution_count": 53,
   "id": "64cd58ed",
   "metadata": {},
   "outputs": [
    {
     "name": "stderr",
     "output_type": "stream",
     "text": [
      "100%|██████████| 22339/22339 [00:26<00:00, 846.14it/s] \n"
     ]
    },
    {
     "data": {
      "text/plain": [
       "48066255"
      ]
     },
     "execution_count": 53,
     "metadata": {},
     "output_type": "execute_result"
    }
   ],
   "source": [
    "\n",
    "train_array = []\n",
    "for i in tqdm(range(len(train_file_paths))):\n",
    "    \n",
    "    l = load_and_tokenize(train_file_paths[i],enc)\n",
    "    train_array.extend(l)\n",
    "    \n",
    "len(train_array)\n"
   ]
  },
  {
   "cell_type": "code",
   "execution_count": 51,
   "id": "d7a74ee1",
   "metadata": {},
   "outputs": [
    {
     "data": {
      "text/plain": [
       "48066255"
      ]
     },
     "execution_count": 51,
     "metadata": {},
     "output_type": "execute_result"
    }
   ],
   "source": [
    "len(train_array)"
   ]
  },
  {
   "cell_type": "code",
   "execution_count": 54,
   "id": "749c7982",
   "metadata": {},
   "outputs": [],
   "source": [
    "np.save(\"data_arrays/train.npy\", train_array)"
   ]
  },
  {
   "cell_type": "code",
   "execution_count": 55,
   "id": "143b880b",
   "metadata": {},
   "outputs": [
    {
     "name": "stderr",
     "output_type": "stream",
     "text": [
      "100%|██████████| 9574/9574 [00:11<00:00, 851.02it/s] \n"
     ]
    },
    {
     "data": {
      "text/plain": [
       "20236283"
      ]
     },
     "execution_count": 55,
     "metadata": {},
     "output_type": "execute_result"
    }
   ],
   "source": [
    "\n",
    "valid_array = []\n",
    "for i in tqdm(range(len(valid_file_paths))):\n",
    "    \n",
    "    l = load_and_tokenize(valid_file_paths[i],enc)\n",
    "    valid_array.extend(l)\n",
    "    \n",
    "len(valid_array)\n"
   ]
  },
  {
   "cell_type": "code",
   "execution_count": 56,
   "id": "c572fc39",
   "metadata": {},
   "outputs": [],
   "source": [
    "np.save(\"data_arrays/valid.npy\", valid_array)"
   ]
  },
  {
   "cell_type": "code",
   "execution_count": null,
   "id": "6daaaedf",
   "metadata": {},
   "outputs": [],
   "source": []
  }
 ],
 "metadata": {
  "kernelspec": {
   "display_name": "Python 3 (ipykernel)",
   "language": "python",
   "name": "python3"
  },
  "language_info": {
   "codemirror_mode": {
    "name": "ipython",
    "version": 3
   },
   "file_extension": ".py",
   "mimetype": "text/x-python",
   "name": "python",
   "nbconvert_exporter": "python",
   "pygments_lexer": "ipython3",
   "version": "3.11.4"
  }
 },
 "nbformat": 4,
 "nbformat_minor": 5
}
